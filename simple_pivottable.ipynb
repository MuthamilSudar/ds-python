{
  "nbformat": 4,
  "nbformat_minor": 0,
  "metadata": {
    "colab": {
      "provenance": []
    },
    "kernelspec": {
      "name": "python3",
      "display_name": "Python 3"
    },
    "language_info": {
      "name": "python"
    }
  },
  "cells": [
    {
      "cell_type": "code",
      "execution_count": null,
      "metadata": {
        "colab": {
          "base_uri": "https://localhost:8080/"
        },
        "id": "OMi0UTVRPk4o",
        "outputId": "96c7069d-ce58-4ca4-9319-ee2d64ab4382"
      },
      "outputs": [
        {
          "output_type": "stream",
          "name": "stdout",
          "text": [
            "Original array:\n",
            "[[1 2]\n",
            " [3 4]]\n",
            "\n",
            "A) x[:, -2:] (all elements from second column onwards)\n",
            "[[1 2]\n",
            " [3 4]]\n",
            "\n",
            "B) x[:, -1] (last column)\n",
            "[2 4]\n",
            "\n",
            "C) x[:, 1: -1] (all elements except first and last columns)\n",
            "[]\n",
            "\n",
            "D) x[:, 1] (second column)\n",
            "[2 4]\n"
          ]
        }
      ],
      "source": [
        "import numpy as np\n",
        "\n",
        "# Create a sample array\n",
        "x = np.array([[1, 2], [3, 4]])\n",
        "\n",
        "# Print the original array\n",
        "print(\"Original array:\")\n",
        "print(x)\n",
        "\n",
        "# Print elements using various slicing expressions\n",
        "print(\"\\nA) x[:, -2:] (all elements from second column onwards)\")\n",
        "print(x[:, -2:])  # This selects all elements from the second column onwards\n",
        "\n",
        "print(\"\\nB) x[:, -1] (last column)\")\n",
        "print(x[:, -1])  # This selects the last column (including the last two elements of the first column)\n",
        "\n",
        "print(\"\\nC) x[:, 1: -1] (all elements except first and last columns)\")\n",
        "print(x[:, 1: -1])  # This selects all elements except the first and last columns (empty in this case)\n",
        "\n",
        "print(\"\\nD) x[:, 1] (second column)\")\n",
        "print(x[:, 1])  # This selects the second column (including the last two elements of the first column)\n"
      ]
    },
    {
      "cell_type": "code",
      "source": [
        "x= np.array([[5, 0, 3, 3],[7, 9, 3, 5],[2, 4, 7, 6 ]])\n",
        "print(x)\n",
        "print(np.sum(x<6,axis=0))"
      ],
      "metadata": {
        "colab": {
          "base_uri": "https://localhost:8080/"
        },
        "id": "pWwuzs67l55w",
        "outputId": "05edd395-9583-4e32-bd56-1c67902e38a2"
      },
      "execution_count": null,
      "outputs": [
        {
          "output_type": "stream",
          "name": "stdout",
          "text": [
            "[[5 0 3 3]\n",
            " [7 9 3 5]\n",
            " [2 4 7 6]]\n",
            "[2 2 2 2]\n"
          ]
        }
      ]
    },
    {
      "cell_type": "code",
      "source": [],
      "metadata": {
        "id": "0_7N9rnEtvdr"
      },
      "execution_count": null,
      "outputs": []
    },
    {
      "cell_type": "markdown",
      "source": [
        "***Hierarchical indexing***\n",
        "Hierarchical indexing, also known as multi-level indexing, is a feature in pandas that enables you to manage and work with data in multiple dimensions. It allows you to create DataFrame or Series objects with more than one level of row or column labels, providing a way to organize and structure complex datasets.\n",
        "\n",
        "Syntax: ***bold text***\n",
        "\n",
        "index = pd.MultiIndex.from_tuples(\n",
        "    [('Level1', 'A'), ('Level1', 'B'), ('Level2', 'C'), ('Level2', 'D')],\n",
        "    names=['First_Level', 'Second_Level']  # Optional: Names for the levels\n",
        ")"
      ],
      "metadata": {
        "id": "vnUYlFuusBk8"
      }
    },
    {
      "cell_type": "code",
      "source": [
        "import pandas as pd\n",
        "\n",
        "\n",
        "df = pd.DataFrame({\n",
        "    'A': [1, 2, 3, 4, 5],\n",
        "    'B': [6, 7, 8, 9, 10],\n",
        "    'C': [11, 12, 13, 14, 15]\n",
        "}, index=pd.MultiIndex.from_tuples([('Group1', 'A'), ('Group1', 'B'), ('Group2', 'A'), ('Group2', 'B'), ('Group2', 'C')], names=['Group', 'Variable']))\n",
        "\n",
        "# Display the DataFrame\n",
        "print(\"DataFrame with hierarchical index:\")\n",
        "print(df)\n",
        "\n",
        "# Access data using hierarchical index\n",
        "print(\"\\nData for 'Group1':\")\n",
        "print(df.loc['Group1'])\n",
        "\n",
        "print(\"\\nData for 'Variable' A:\")\n",
        "print(df.loc[:, 'A'])\n",
        "\n",
        "print(\"\\nData for 'Group1' and 'Variable' B:\")\n",
        "print(df.loc[('Group1', 'B')])\n"
      ],
      "metadata": {
        "colab": {
          "base_uri": "https://localhost:8080/"
        },
        "id": "Hp9pXvb2plNH",
        "outputId": "87b4d98b-956c-4e1e-b3fd-13e66c147277"
      },
      "execution_count": null,
      "outputs": [
        {
          "output_type": "stream",
          "name": "stdout",
          "text": [
            "DataFrame with hierarchical index:\n",
            "                 A   B   C\n",
            "Group  Variable           \n",
            "Group1 A         1   6  11\n",
            "       B         2   7  12\n",
            "Group2 A         3   8  13\n",
            "       B         4   9  14\n",
            "       C         5  10  15\n",
            "\n",
            "Data for 'Group1':\n",
            "          A  B   C\n",
            "Variable          \n",
            "A         1  6  11\n",
            "B         2  7  12\n",
            "\n",
            "Data for 'Variable' A:\n",
            "Group   Variable\n",
            "Group1  A           1\n",
            "        B           2\n",
            "Group2  A           3\n",
            "        B           4\n",
            "        C           5\n",
            "Name: A, dtype: int64\n",
            "\n",
            "Data for 'Group1' and 'Variable' B:\n",
            "A     2\n",
            "B     7\n",
            "C    12\n",
            "Name: (Group1, B), dtype: int64\n"
          ]
        }
      ]
    },
    {
      "cell_type": "markdown",
      "source": [
        "Pivot table allows you to transform and aggregate data in a tabular format, providing insights into the relationships between different variables.\n",
        "\n",
        "Typically it involves\n",
        "1. Rows and Columns\n",
        "2. values\n",
        "3. Aggregate Function\n",
        "4. Filtering adn Sorting\n",
        "5. Display\n",
        "\n",
        "# Syntax for pivot table\n",
        "pivot_df = df.pivot_table(\n",
        "    index='row_column',        # Column(s) to use as the row index\n",
        "\n",
        "    columns='column_column',   # Column(s) to use as the column index\n",
        "\n",
        "    values='value_column',     # Column containing the values to be summarized\n",
        "\n",
        "    aggfunc='aggregation_function',  # Aggregation function to be applied to the values\n",
        "\n",
        "    fill_value=None,           # Optional: Value to replace missing values\n",
        "\n",
        "    margins=False,             # Optional: Whether to include subtotal margins\n",
        "    \n",
        "    dropna=True                # Optional: Whether to exclude rows/columns with missing values\n",
        ")"
      ],
      "metadata": {
        "id": "lWmM6b2QrJ6M"
      }
    },
    {
      "cell_type": "code",
      "source": [
        "import pandas as pd\n",
        "\n",
        "data = {\n",
        "    'Date': ['2022-01-01', '2022-01-01', '2022-01-02', '2022-01-02', '2022-01-03'],\n",
        "    'Product': ['A', 'B', 'A', 'B', 'A'],\n",
        "    'Sales': [100, 200, 150, 180, 120],\n",
        "    'Region': ['North', 'North', 'South', 'South', 'North']\n",
        "}\n",
        "\n",
        "df = pd.DataFrame(data)\n",
        "print(df)\n"
      ],
      "metadata": {
        "colab": {
          "base_uri": "https://localhost:8080/"
        },
        "id": "pIr4DOhKp2Tf",
        "outputId": "23ec67eb-1208-4ebb-e4c0-6296ceed8258"
      },
      "execution_count": null,
      "outputs": [
        {
          "output_type": "stream",
          "name": "stdout",
          "text": [
            "         Date Product  Sales Region\n",
            "0  2022-01-01       A    100  North\n",
            "1  2022-01-01       B    200  North\n",
            "2  2022-01-02       A    150  South\n",
            "3  2022-01-02       B    180  South\n",
            "4  2022-01-03       A    120  North\n"
          ]
        }
      ]
    },
    {
      "cell_type": "code",
      "source": [
        "pivot_df = df.pivot_table(index='Product', columns='Region', values='Sales', aggfunc='sum')\n",
        "print(pivot_df)\n"
      ],
      "metadata": {
        "colab": {
          "base_uri": "https://localhost:8080/"
        },
        "id": "tHfbEu3lp9Mm",
        "outputId": "25c4ec35-ad13-4d8c-85b2-3d472bb82e21"
      },
      "execution_count": null,
      "outputs": [
        {
          "output_type": "stream",
          "name": "stdout",
          "text": [
            "Region   North  South\n",
            "Product              \n",
            "A          220    150\n",
            "B          200    180\n"
          ]
        }
      ]
    },
    {
      "cell_type": "code",
      "source": [
        "pivot_mean = df.pivot_table(index='Product', columns='Region', values='Sales', aggfunc='mean')\n",
        "print(\"Mean (average) sales:\")\n",
        "print(pivot_mean)\n"
      ],
      "metadata": {
        "colab": {
          "base_uri": "https://localhost:8080/"
        },
        "id": "HME0LOSdqHZ-",
        "outputId": "4e8c69ce-2bb5-4267-d44b-7fa517ce36ae"
      },
      "execution_count": null,
      "outputs": [
        {
          "output_type": "stream",
          "name": "stdout",
          "text": [
            "Mean (average) sales:\n",
            "Region   North  South\n",
            "Product              \n",
            "A          110    150\n",
            "B          200    180\n"
          ]
        }
      ]
    },
    {
      "cell_type": "code",
      "source": [
        "pivot_min = df.pivot_table(index='Product', columns='Region', values='Sales', aggfunc='min')\n",
        "print(\"\\nMinimum sales:\")\n",
        "print(pivot_min)\n"
      ],
      "metadata": {
        "colab": {
          "base_uri": "https://localhost:8080/"
        },
        "id": "lU0crznxqKce",
        "outputId": "50e779bc-eb34-4ce5-a694-e914cfdec491"
      },
      "execution_count": null,
      "outputs": [
        {
          "output_type": "stream",
          "name": "stdout",
          "text": [
            "\n",
            "Minimum sales:\n",
            "Region   North  South\n",
            "Product              \n",
            "A          100    150\n",
            "B          200    180\n"
          ]
        }
      ]
    },
    {
      "cell_type": "code",
      "source": [
        "pivot_max = df.pivot_table(index='Product', columns='Region', values='Sales', aggfunc='max')\n",
        "print(\"\\nMaximum sales:\")\n",
        "print(pivot_max)\n"
      ],
      "metadata": {
        "colab": {
          "base_uri": "https://localhost:8080/"
        },
        "id": "j6K9bKntqOvn",
        "outputId": "ea54b4b0-8ffb-43ae-d35d-a2c6d40f5068"
      },
      "execution_count": null,
      "outputs": [
        {
          "output_type": "stream",
          "name": "stdout",
          "text": [
            "\n",
            "Maximum sales:\n",
            "Region   North  South\n",
            "Product              \n",
            "A          120    150\n",
            "B          200    180\n"
          ]
        }
      ]
    },
    {
      "cell_type": "code",
      "source": [
        "import pandas as pd\n",
        "\n",
        "\n",
        "data = {\n",
        "    'Student': ['raja', 'kumar', 'raja', 'kumar', 'raja', 'kumar'],\n",
        "    'Subject': ['DS', 'DS', 'DAA', 'DAA', 'TOC', 'TOC'],\n",
        "    'Score': [85, 90, 88, 92, 75, 80],\n",
        "    'Grade': ['A', 'A', 'A', 'A', 'B', 'B']\n",
        "}\n",
        "\n",
        "# Create DataFrame\n",
        "df = pd.DataFrame(data)\n",
        "print(df)\n",
        "\n",
        "# 1. Average score for each student in each subject\n",
        "pivot_avg_score = df.pivot_table(index='Student', columns='Subject', values='Score', aggfunc='mean')\n",
        "print(\"1. Average score for each student in each subject:\")\n",
        "print(pivot_avg_score)\n",
        "\n",
        "# 2. Maximum score achieved by each student in each subject\n",
        "pivot_max_score = df.pivot_table(index='Student', columns='Subject', values='Score', aggfunc='max')\n",
        "print(\"\\n2. Maximum score achieved by each student in each subject:\")\n",
        "print(pivot_max_score)\n",
        "\n",
        "# 3. Number of subjects each student has taken\n",
        "pivot_subject_count = df.pivot_table(index='Student', values='Subject', aggfunc='count')\n",
        "print(\"\\n3. Number of subjects each student has taken:\")\n",
        "print(pivot_subject_count)\n",
        "\n",
        "# 4. Average score for each grade in each subject\n",
        "pivot_avg_score_grade = df.pivot_table(index='Grade', columns='Subject', values='Score', aggfunc='mean')\n",
        "print(\"\\n4. Average score for each grade in each subject:\")\n",
        "print(pivot_avg_score_grade)\n"
      ],
      "metadata": {
        "colab": {
          "base_uri": "https://localhost:8080/"
        },
        "id": "K-JqBkvpqy8N",
        "outputId": "522a92ef-a298-41ab-cdab-a0eb09b78a0d"
      },
      "execution_count": null,
      "outputs": [
        {
          "output_type": "stream",
          "name": "stdout",
          "text": [
            "  Student Subject  Score Grade\n",
            "0    raja      DS     85     A\n",
            "1   kumar      DS     90     A\n",
            "2    raja     DAA     88     A\n",
            "3   kumar     DAA     92     A\n",
            "4    raja     TOC     75     B\n",
            "5   kumar     TOC     80     B\n",
            "1. Average score for each student in each subject:\n",
            "Subject  DAA  DS  TOC\n",
            "Student              \n",
            "kumar     92  90   80\n",
            "raja      88  85   75\n",
            "\n",
            "2. Maximum score achieved by each student in each subject:\n",
            "Subject  DAA  DS  TOC\n",
            "Student              \n",
            "kumar     92  90   80\n",
            "raja      88  85   75\n",
            "\n",
            "3. Number of subjects each student has taken:\n",
            "         Subject\n",
            "Student         \n",
            "kumar          3\n",
            "raja           3\n",
            "\n",
            "4. Average score for each grade in each subject:\n",
            "Subject   DAA    DS   TOC\n",
            "Grade                    \n",
            "A        90.0  87.5   NaN\n",
            "B         NaN   NaN  77.5\n"
          ]
        }
      ]
    }
  ]
}